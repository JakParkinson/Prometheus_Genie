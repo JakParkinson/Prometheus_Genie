{
 "cells": [
  {
   "cell_type": "code",
   "execution_count": 1,
   "metadata": {},
   "outputs": [],
   "source": [
    "import pandas as pd\n",
    "import numpy as np\n"
   ]
  },
  {
   "cell_type": "code",
   "execution_count": 2,
   "metadata": {},
   "outputs": [
    {
     "name": "stdout",
     "output_type": "stream",
     "text": [
      "Loaded prometheus_set with shape: (100, 14)\n",
      "Loaded primary_set with shape: (100, 14)\n",
      "Type of position data: <class 'numpy.ndarray'>\n",
      "Sample position: [  48.91165602  313.50011218 -380.03670563    0.        ]\n",
      "Processed 100 events\n",
      "\n",
      "Sample of extracted position data:\n",
      "   initial_state                                       final_states  \\\n",
      "0             14    [22, 13, 211, 111, -211, 2212, 2212, 2212, 111]   \n",
      "1             14     [22, 14, 211, 211, -211, -211, 111, 2112, 111]   \n",
      "2             14  [22, 14, 111, 2112, 211, 2212, 211, -211, -211...   \n",
      "3             14                [22, 13, 211, 111, 2112, 111, 2212]   \n",
      "4             14  [14, 2212, 2212, 2212, 2212, 2112, 2112, -211,...   \n",
      "\n",
      "  interaction  adjusted_initial_position_x  adjusted_initial_position_y  \\\n",
      "0          CC                    48.911656                   313.500112   \n",
      "1          NC                  -135.498767                   388.107182   \n",
      "2          NC                  -390.709797                   193.798250   \n",
      "3          CC                   -76.872017                    66.629222   \n",
      "4          NC                   399.170659                     7.608591   \n",
      "\n",
      "   adjusted_initial_position_z  \n",
      "0                  -380.036706  \n",
      "1                  -483.334236  \n",
      "2                    32.588960  \n",
      "3                   203.570615  \n",
      "4                   116.531233  \n"
     ]
    }
   ],
   "source": [
    "\n",
    "def load_prometheus_parquet():\n",
    "    \"\"\"\n",
    "    Load the prometheus parquet files that were saved after converting arrays to lists\n",
    "    \"\"\"\n",
    "    # Load the parquet files\n",
    "    prometheus_set = pd.read_parquet('genie_events_for_prometheus.parquet')\n",
    "    primary_set = pd.read_parquet('genie_events_primary.parquet')\n",
    "    \n",
    "    print(f\"Loaded prometheus_set with shape: {prometheus_set.shape}\")\n",
    "    print(f\"Loaded primary_set with shape: {primary_set.shape}\")\n",
    "    \n",
    "    # Check the structure of the position column in both datasets\n",
    "    if 'position' in primary_set.columns:\n",
    "        # Get the first position entry to understand its structure\n",
    "        first_position = primary_set['position'].iloc[0]\n",
    "        print(f\"Type of position data: {type(first_position)}\")\n",
    "        print(f\"Sample position: {first_position}\")\n",
    "    \n",
    "    # Create results dataframe with the requested columns\n",
    "    results = []\n",
    "    \n",
    "    for idx in prometheus_set.index:\n",
    "        if idx in primary_set.index:\n",
    "            # Get position data - this is now a list, not a numpy array\n",
    "            position = primary_set.loc[idx, 'position']\n",
    "            \n",
    "            # Create result row\n",
    "            result_row = {\n",
    "                'initial_state': primary_set.loc[idx, 'pdg_code'],\n",
    "                'final_states': prometheus_set.loc[idx, 'pdg_code'],\n",
    "                'interaction': primary_set.loc[idx, 'interaction'],\n",
    "                'adjusted_initial_position_x': position[0],  # Access list element\n",
    "                'adjusted_initial_position_y': position[1],  # Access list element\n",
    "                'adjusted_initial_position_z': position[2]   # Access list element\n",
    "            }\n",
    "            \n",
    "            results.append(result_row)\n",
    "    \n",
    "    # Convert to dataframe\n",
    "    results_df = pd.DataFrame(results)\n",
    "    print(f\"Processed {len(results)} events\")\n",
    "    \n",
    "    return results_df\n",
    "\n",
    "# Example usage\n",
    "if __name__ == \"__main__\":\n",
    "    positions_df = load_prometheus_parquet()\n",
    "    \n",
    "    # Display a sample of the results\n",
    "    print(\"\\nSample of extracted position data:\")\n",
    "    print(positions_df.head())\n",
    "    "
   ]
  },
  {
   "cell_type": "code",
   "execution_count": null,
   "metadata": {},
   "outputs": [],
   "source": []
  }
 ],
 "metadata": {
  "kernelspec": {
   "display_name": "myenv",
   "language": "python",
   "name": "python3"
  },
  "language_info": {
   "codemirror_mode": {
    "name": "ipython",
    "version": 3
   },
   "file_extension": ".py",
   "mimetype": "text/x-python",
   "name": "python",
   "nbconvert_exporter": "python",
   "pygments_lexer": "ipython3",
   "version": "3.9.19"
  }
 },
 "nbformat": 4,
 "nbformat_minor": 2
}
